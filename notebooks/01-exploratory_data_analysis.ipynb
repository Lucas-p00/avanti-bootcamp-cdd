{
 "cells": [
  {
   "cell_type": "markdown",
   "metadata": {},
   "source": [
    "# Análise exploratória de dados"
   ]
  },
  {
   "cell_type": "code",
   "execution_count": 1,
   "metadata": {},
   "outputs": [],
   "source": [
    "import pandas as pd"
   ]
  },
  {
   "cell_type": "markdown",
   "metadata": {},
   "source": [
    "## 1. Descrição dos dados"
   ]
  },
  {
   "cell_type": "markdown",
   "metadata": {},
   "source": [
    "#### Carregando os dados"
   ]
  },
  {
   "cell_type": "code",
   "execution_count": 2,
   "metadata": {},
   "outputs": [
    {
     "data": {
      "text/html": [
       "<div>\n",
       "<style scoped>\n",
       "    .dataframe tbody tr th:only-of-type {\n",
       "        vertical-align: middle;\n",
       "    }\n",
       "\n",
       "    .dataframe tbody tr th {\n",
       "        vertical-align: top;\n",
       "    }\n",
       "\n",
       "    .dataframe thead th {\n",
       "        text-align: right;\n",
       "    }\n",
       "</style>\n",
       "<table border=\"1\" class=\"dataframe\">\n",
       "  <thead>\n",
       "    <tr style=\"text-align: right;\">\n",
       "      <th></th>\n",
       "      <th>survived</th>\n",
       "      <th>pclass</th>\n",
       "      <th>sex</th>\n",
       "      <th>age</th>\n",
       "      <th>sibsp</th>\n",
       "      <th>parch</th>\n",
       "      <th>fare</th>\n",
       "      <th>embarked</th>\n",
       "      <th>class</th>\n",
       "      <th>who</th>\n",
       "      <th>adult_male</th>\n",
       "      <th>deck</th>\n",
       "      <th>embark_town</th>\n",
       "      <th>alive</th>\n",
       "      <th>alone</th>\n",
       "    </tr>\n",
       "  </thead>\n",
       "  <tbody>\n",
       "    <tr>\n",
       "      <th>0</th>\n",
       "      <td>0</td>\n",
       "      <td>3</td>\n",
       "      <td>male</td>\n",
       "      <td>22.0</td>\n",
       "      <td>1</td>\n",
       "      <td>0</td>\n",
       "      <td>7.2500</td>\n",
       "      <td>S</td>\n",
       "      <td>Third</td>\n",
       "      <td>man</td>\n",
       "      <td>True</td>\n",
       "      <td>NaN</td>\n",
       "      <td>Southampton</td>\n",
       "      <td>no</td>\n",
       "      <td>False</td>\n",
       "    </tr>\n",
       "    <tr>\n",
       "      <th>1</th>\n",
       "      <td>1</td>\n",
       "      <td>1</td>\n",
       "      <td>female</td>\n",
       "      <td>38.0</td>\n",
       "      <td>1</td>\n",
       "      <td>0</td>\n",
       "      <td>71.2833</td>\n",
       "      <td>C</td>\n",
       "      <td>First</td>\n",
       "      <td>woman</td>\n",
       "      <td>False</td>\n",
       "      <td>C</td>\n",
       "      <td>Cherbourg</td>\n",
       "      <td>yes</td>\n",
       "      <td>False</td>\n",
       "    </tr>\n",
       "    <tr>\n",
       "      <th>2</th>\n",
       "      <td>1</td>\n",
       "      <td>3</td>\n",
       "      <td>female</td>\n",
       "      <td>26.0</td>\n",
       "      <td>0</td>\n",
       "      <td>0</td>\n",
       "      <td>7.9250</td>\n",
       "      <td>S</td>\n",
       "      <td>Third</td>\n",
       "      <td>woman</td>\n",
       "      <td>False</td>\n",
       "      <td>NaN</td>\n",
       "      <td>Southampton</td>\n",
       "      <td>yes</td>\n",
       "      <td>True</td>\n",
       "    </tr>\n",
       "    <tr>\n",
       "      <th>3</th>\n",
       "      <td>1</td>\n",
       "      <td>1</td>\n",
       "      <td>female</td>\n",
       "      <td>35.0</td>\n",
       "      <td>1</td>\n",
       "      <td>0</td>\n",
       "      <td>53.1000</td>\n",
       "      <td>S</td>\n",
       "      <td>First</td>\n",
       "      <td>woman</td>\n",
       "      <td>False</td>\n",
       "      <td>C</td>\n",
       "      <td>Southampton</td>\n",
       "      <td>yes</td>\n",
       "      <td>False</td>\n",
       "    </tr>\n",
       "    <tr>\n",
       "      <th>4</th>\n",
       "      <td>0</td>\n",
       "      <td>3</td>\n",
       "      <td>male</td>\n",
       "      <td>35.0</td>\n",
       "      <td>0</td>\n",
       "      <td>0</td>\n",
       "      <td>8.0500</td>\n",
       "      <td>S</td>\n",
       "      <td>Third</td>\n",
       "      <td>man</td>\n",
       "      <td>True</td>\n",
       "      <td>NaN</td>\n",
       "      <td>Southampton</td>\n",
       "      <td>no</td>\n",
       "      <td>True</td>\n",
       "    </tr>\n",
       "  </tbody>\n",
       "</table>\n",
       "</div>"
      ],
      "text/plain": [
       "   survived  pclass     sex   age  sibsp  parch     fare embarked  class  \\\n",
       "0         0       3    male  22.0      1      0   7.2500        S  Third   \n",
       "1         1       1  female  38.0      1      0  71.2833        C  First   \n",
       "2         1       3  female  26.0      0      0   7.9250        S  Third   \n",
       "3         1       1  female  35.0      1      0  53.1000        S  First   \n",
       "4         0       3    male  35.0      0      0   8.0500        S  Third   \n",
       "\n",
       "     who  adult_male deck  embark_town alive  alone  \n",
       "0    man        True  NaN  Southampton    no  False  \n",
       "1  woman       False    C    Cherbourg   yes  False  \n",
       "2  woman       False  NaN  Southampton   yes   True  \n",
       "3  woman       False    C  Southampton   yes  False  \n",
       "4    man        True  NaN  Southampton    no   True  "
      ]
     },
     "execution_count": 2,
     "metadata": {},
     "output_type": "execute_result"
    }
   ],
   "source": [
    "df = pd.read_csv('../data/raw/titanic.csv')\n",
    "df.head()"
   ]
  },
  {
   "cell_type": "markdown",
   "metadata": {},
   "source": [
    "#### Qtd de instâncias e variáveis"
   ]
  },
  {
   "cell_type": "code",
   "execution_count": 3,
   "metadata": {},
   "outputs": [
    {
     "data": {
      "text/plain": [
       "(891, 15)"
      ]
     },
     "execution_count": 3,
     "metadata": {},
     "output_type": "execute_result"
    }
   ],
   "source": [
    "df.shape"
   ]
  },
  {
   "cell_type": "code",
   "execution_count": 4,
   "metadata": {},
   "outputs": [
    {
     "name": "stdout",
     "output_type": "stream",
     "text": [
      "Numero de instâncias: 891\n",
      "Numero de variáveis: 15\n"
     ]
    }
   ],
   "source": [
    "instancias, variaveis = df.shape\n",
    "print(f\"Numero de instâncias: {instancias}\")\n",
    "print(f\"Numero de variáveis: {variaveis}\")"
   ]
  },
  {
   "cell_type": "markdown",
   "metadata": {},
   "source": [
    "#### Tipos das variáveis"
   ]
  },
  {
   "cell_type": "code",
   "execution_count": 5,
   "metadata": {},
   "outputs": [
    {
     "data": {
      "text/plain": [
       "survived         int64\n",
       "pclass           int64\n",
       "sex             object\n",
       "age            float64\n",
       "sibsp            int64\n",
       "parch            int64\n",
       "fare           float64\n",
       "embarked        object\n",
       "class           object\n",
       "who             object\n",
       "adult_male        bool\n",
       "deck            object\n",
       "embark_town     object\n",
       "alive           object\n",
       "alone             bool\n",
       "dtype: object"
      ]
     },
     "execution_count": 5,
     "metadata": {},
     "output_type": "execute_result"
    }
   ],
   "source": [
    "df.dtypes"
   ]
  },
  {
   "cell_type": "markdown",
   "metadata": {},
   "source": [
    "##### Utilizando o dicionário"
   ]
  },
  {
   "cell_type": "code",
   "execution_count": 6,
   "metadata": {},
   "outputs": [],
   "source": [
    "import json\n",
    "\n",
    "with open('../data/external/dict_titanic.json', 'r') as f:\n",
    "    data_dict = json.load(f)"
   ]
  },
  {
   "cell_type": "code",
   "execution_count": 7,
   "metadata": {},
   "outputs": [
    {
     "name": "stdout",
     "output_type": "stream",
     "text": [
      "Variáveis quantitativas: ['age', 'sibsp', 'parch', 'fare']\n",
      "Variáveis qualitativas: ['survived', 'pclass', 'sex', 'embarked', 'class', 'who', 'adult_male', 'deck', 'embark_town', 'alive', 'alone']\n"
     ]
    }
   ],
   "source": [
    "# Separando as variáveis quantitativas e qualitativas\n",
    "variaveis_quantitativas = [var for var, meta in data_dict.items() if meta['tipo'] == 'quantitativa']\n",
    "variaveis_qualitativas = [var for var, meta in data_dict.items() if meta['tipo'] == 'qualitativa']\n",
    "\n",
    "print(\"Variáveis quantitativas:\", variaveis_quantitativas)\n",
    "print(\"Variáveis qualitativas:\", variaveis_qualitativas)"
   ]
  },
  {
   "cell_type": "markdown",
   "metadata": {},
   "source": [
    "#### Qtd de valores ausentes"
   ]
  },
  {
   "cell_type": "code",
   "execution_count": 8,
   "metadata": {},
   "outputs": [
    {
     "data": {
      "text/plain": [
       "survived         0\n",
       "pclass           0\n",
       "sex              0\n",
       "age            177\n",
       "sibsp            0\n",
       "parch            0\n",
       "fare             0\n",
       "embarked         2\n",
       "class            0\n",
       "who              0\n",
       "adult_male       0\n",
       "deck           688\n",
       "embark_town      2\n",
       "alive            0\n",
       "alone            0\n",
       "dtype: int64"
      ]
     },
     "execution_count": 8,
     "metadata": {},
     "output_type": "execute_result"
    }
   ],
   "source": [
    "valores_ausentes = df.isnull().sum()\n",
    "valores_ausentes"
   ]
  },
  {
   "cell_type": "markdown",
   "metadata": {},
   "source": [
    "##### Utilizando o dicionário"
   ]
  },
  {
   "cell_type": "code",
   "execution_count": 9,
   "metadata": {},
   "outputs": [
    {
     "name": "stdout",
     "output_type": "stream",
     "text": [
      "Variável: survived\n",
      "Descrição: Indica se o passageiro sobreviveu (1) ou não (0)\n",
      "Tipo: qualitativa (nominal)\n",
      "Valores ausentes: 0\n",
      "\n",
      "Variável: pclass\n",
      "Descrição: Classe do ticket do passageiro (1ª, 2ª, ou 3ª classe)\n",
      "Tipo: qualitativa (ordinal)\n",
      "Valores ausentes: 0\n",
      "\n",
      "Variável: sex\n",
      "Descrição: Sexo do passageiro (male ou female)\n",
      "Tipo: qualitativa (nominal)\n",
      "Valores ausentes: 0\n",
      "\n",
      "Variável: age\n",
      "Descrição: Idade do passageiro\n",
      "Tipo: quantitativa (contínua)\n",
      "Valores ausentes: 177\n",
      "\n",
      "Variável: sibsp\n",
      "Descrição: Número de irmãos/cônjuges a bordo\n",
      "Tipo: quantitativa (discreta)\n",
      "Valores ausentes: 0\n",
      "\n",
      "Variável: parch\n",
      "Descrição: Número de pais/filhos a bordo\n",
      "Tipo: quantitativa (discreta)\n",
      "Valores ausentes: 0\n",
      "\n",
      "Variável: fare\n",
      "Descrição: Valor da tarifa paga pelo passageiro\n",
      "Tipo: quantitativa (contínua)\n",
      "Valores ausentes: 0\n",
      "\n",
      "Variável: embarked\n",
      "Descrição: Porto de embarque (C = Cherbourg; Q = Queenstown; S = Southampton)\n",
      "Tipo: qualitativa (nominal)\n",
      "Valores ausentes: 2\n",
      "\n",
      "Variável: class\n",
      "Descrição: Classe socioeconômica do passageiro (First, Second, Third)\n",
      "Tipo: qualitativa (ordinal)\n",
      "Valores ausentes: 0\n",
      "\n",
      "Variável: who\n",
      "Descrição: Descrição de quem é o passageiro (man, woman, child)\n",
      "Tipo: qualitativa (nominal)\n",
      "Valores ausentes: 0\n",
      "\n",
      "Variável: adult_male\n",
      "Descrição: Indica se o passageiro é um homem adulto (True/False)\n",
      "Tipo: qualitativa (nominal)\n",
      "Valores ausentes: 0\n",
      "\n",
      "Variável: deck\n",
      "Descrição: Deck onde o passageiro estava localizado no navio\n",
      "Tipo: qualitativa (nominal)\n",
      "Valores ausentes: 688\n",
      "\n",
      "Variável: embark_town\n",
      "Descrição: Cidade de onde o passageiro embarcou\n",
      "Tipo: qualitativa (nominal)\n",
      "Valores ausentes: 2\n",
      "\n",
      "Variável: alive\n",
      "Descrição: Indica se o passageiro estava vivo (yes) ou não (no)\n",
      "Tipo: qualitativa (nominal)\n",
      "Valores ausentes: 0\n",
      "\n",
      "Variável: alone\n",
      "Descrição: Indica se o passageiro estava viajando sozinho (True/False)\n",
      "Tipo: qualitativa (nominal)\n",
      "Valores ausentes: 0\n",
      "\n"
     ]
    }
   ],
   "source": [
    "# Dicionário de dados com a quantidade de valores ausentes\n",
    "for col in df.columns:\n",
    "    descricao = data_dict.get(col, {}).get('descricao', 'Descrição não encontrada')\n",
    "    tipo = data_dict.get(col, {}).get('tipo', 'Tipo não encontrado')\n",
    "    subtipo = data_dict.get(col, {}).get('subtipo', 'Subtipo não encontrado')\n",
    "    \n",
    "    print(f\"Variável: {col}\")\n",
    "    print(f\"Descrição: {descricao}\")\n",
    "    print(f\"Tipo: {tipo} ({subtipo})\")\n",
    "    print(f\"Valores ausentes: {valores_ausentes[col]}\\n\")"
   ]
  },
  {
   "cell_type": "markdown",
   "metadata": {},
   "source": [
    "## 2. Perguntas de partida e hipóteses"
   ]
  },
  {
   "cell_type": "markdown",
   "metadata": {},
   "source": [
    "#### Pergunta 1: Qual é a taxa de sobrevivência geral dos passageiros?"
   ]
  },
  {
   "cell_type": "code",
   "execution_count": 10,
   "metadata": {},
   "outputs": [
    {
     "name": "stdout",
     "output_type": "stream",
     "text": [
      "Taxa de sobrevivência geral: 38.38%\n"
     ]
    }
   ],
   "source": [
    "total_passageiros = df.shape[0]\n",
    "sobreviventes = df['survived'].sum()\n",
    "taxa_sobrevivencia = sobreviventes / total_passageiros * 100\n",
    "\n",
    "print(f\"Taxa de sobrevivência geral: {taxa_sobrevivencia:.2f}%\")"
   ]
  },
  {
   "cell_type": "markdown",
   "metadata": {},
   "source": [
    "#### Pergunta 2: O sexo dos passageiros teve impacto nas chances de sobrevivência?"
   ]
  },
  {
   "cell_type": "code",
   "execution_count": 11,
   "metadata": {},
   "outputs": [
    {
     "name": "stdout",
     "output_type": "stream",
     "text": [
      "Taxa de sobrevivência por sexo:\n",
      "Mulheres: 74.20%\n",
      "Homens: 18.89%\n"
     ]
    }
   ],
   "source": [
    "sobrevivencia_sexo = df.groupby('sex')['survived'].mean() * 100\n",
    "\n",
    "tx_sobrev_mulheres = sobrevivencia_sexo['female']\n",
    "tx_sobrev_homens = sobrevivencia_sexo['male']\n",
    "\n",
    "print(\"Taxa de sobrevivência por sexo:\")\n",
    "print(f\"Mulheres: {tx_sobrev_mulheres:.2f}%\")\n",
    "print(f\"Homens: {tx_sobrev_homens:.2f}%\")"
   ]
  },
  {
   "cell_type": "markdown",
   "metadata": {},
   "source": [
    "#### Pergunta 3: A idade dos passageiros influenciou as chances de sobrevivência?"
   ]
  },
  {
   "cell_type": "code",
   "execution_count": 12,
   "metadata": {},
   "outputs": [
    {
     "name": "stdout",
     "output_type": "stream",
     "text": [
      "Taxa de sobrevivência por faixa etária:\n",
      "Criança: 57.97%\n",
      "Adolescente: 42.86%\n",
      "Adulto: 38.88%\n",
      "Idoso: 22.73%\n"
     ]
    }
   ],
   "source": [
    "df['faixa_etaria'] = pd.cut(df['age'], bins=[0, 12, 18, 60, 80], labels=['Criança', 'Adolescente', 'Adulto', 'Idoso'])\n",
    "\n",
    "sobrevivencia_idade = df.groupby('faixa_etaria', observed=False)['survived'].mean() * 100\n",
    "\n",
    "tx_crianca = sobrevivencia_idade['Criança']\n",
    "tx_adolescente = sobrevivencia_idade['Adolescente']\n",
    "tx_adulto = sobrevivencia_idade['Adulto']\n",
    "tx_idoso = sobrevivencia_idade['Idoso']\n",
    "\n",
    "print(\"Taxa de sobrevivência por faixa etária:\")\n",
    "print(f\"Criança: {tx_crianca:.2f}%\")\n",
    "print(f\"Adolescente: {tx_adolescente:.2f}%\")\n",
    "print(f\"Adulto: {tx_adulto:.2f}%\")\n",
    "print(f\"Idoso: {tx_idoso:.2f}%\")"
   ]
  },
  {
   "cell_type": "markdown",
   "metadata": {},
   "source": [
    "## 3. Insights"
   ]
  },
  {
   "cell_type": "markdown",
   "metadata": {},
   "source": [
    "#### Taxa de sobrevivência geral"
   ]
  },
  {
   "cell_type": "markdown",
   "metadata": {},
   "source": [
    "- Apenas uma minoria (38.38%) dos passageiros sobreviveu ao naufrágio, o que reflete a gravidade do desastre.\n",
    "- Essa estatística básica serve como base para explorar outros fatores que podem ter influenciado as chances de sobrevivência."
   ]
  },
  {
   "cell_type": "markdown",
   "metadata": {},
   "source": [
    "#### Impacto do sexo da pessoa nas chances de sobrevivência"
   ]
  },
  {
   "cell_type": "markdown",
   "metadata": {},
   "source": [
    "- Taxa de sobrevivência por sexo:\n",
    "    - Mulheres: 74.20%\n",
    "    - Homens: 18.89%\n",
    "- Mulheres tiveram uma taxa de sobrevivência significativamente maior do que homens, o que pode refletir a política de \"mulheres e crianças primeiro\" adotada durante a evacuação.\n",
    "- Esse insight reforça a ideia de que o sexo foi um fator determinante para as chances de sobrevivência no Titanic."
   ]
  },
  {
   "cell_type": "markdown",
   "metadata": {},
   "source": [
    "#### Influência da idade nas chances de sobrevivência"
   ]
  },
  {
   "cell_type": "markdown",
   "metadata": {},
   "source": [
    "- Taxa de sobrevivência por faixa etária:\n",
    "    - Criança: 57.97%\n",
    "    - Adolescente: 42.86%\n",
    "    - Adulto: 38.88%\n",
    "    - Idoso: 22.73%\n",
    "- A análise sugere que crianças tiveram uma taxa de sobrevivência mais alta, o que sugere que elas podem ter sido priorizadas durante o processo de evacuação.\n",
    "- Em contrapartida, os idosos tiveram a menor taxa de sobrevivência, possivelmente devido à menor mobilidade e à dificuldade em acessar os botes salva-vidas, além de não terem recebido prioridade."
   ]
  }
 ],
 "metadata": {
  "kernelspec": {
   "display_name": "Python 3 (ipykernel)",
   "language": "python",
   "name": "python3"
  },
  "language_info": {
   "codemirror_mode": {
    "name": "ipython",
    "version": 3
   },
   "file_extension": ".py",
   "mimetype": "text/x-python",
   "name": "python",
   "nbconvert_exporter": "python",
   "pygments_lexer": "ipython3",
   "version": "3.10.12"
  },
  "vscode": {
   "interpreter": {
    "hash": "eb3c3305d8b111f0102f4f519c5f17abd113fe74db6752c355e994a9008815ef"
   }
  }
 },
 "nbformat": 4,
 "nbformat_minor": 4
}
